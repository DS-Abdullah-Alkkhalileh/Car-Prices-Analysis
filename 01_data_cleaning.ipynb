{
 "cells": [
  {
   "cell_type": "markdown",
   "id": "9a9b7e6d",
   "metadata": {},
   "source": [
    "# Data Description\n",
    "\n",
    "This dataset contains information about used cars, including their specifications, sale details, and market values. Below is a description of each column:\n",
    "\n",
    "- **year**: The manufacturing year of the car.\n",
    "- **make**: The brand or manufacturer of the car (e.g., Toyota, Ford).\n",
    "- **model**: The specific model of the car (e.g., Camry, Mustang).\n",
    "- **trim**: The trim level or variant of the car model, indicating additional features or specifications.\n",
    "- **body**: The body type of the car (e.g., Sedan, SUV, Truck).\n",
    "- **transmission**: The type of transmission (e.g., Automatic, Manual).\n",
    "- **vin**: The Vehicle Identification Number, a unique code for each car.\n",
    "- **state**: The state where the car was sold or located.\n",
    "- **condition**: The condition of the car (e.g., New, Used, Excellent, Good).\n",
    "- **odometer**: The mileage of the car, indicating how many miles it has been driven.\n",
    "- **color**: The exterior color of the car.\n",
    "- **interior**: The interior color or material of the car.\n",
    "- **seller**: The name or type of seller (e.g., Dealer, Private).\n",
    "- **mmr**: The Manheim Market Report value, an estimate of the car's wholesale price.\n",
    "- **sellingprice**: The actual price at which the car was sold.\n",
    "- **saledate**: The date when the car was sold."
   ]
  },
  {
   "cell_type": "markdown",
   "id": "009bed94",
   "metadata": {},
   "source": [
    "# Data Preparation"
   ]
  },
  {
   "cell_type": "markdown",
   "id": "ca228b44",
   "metadata": {},
   "source": [
    "## 1. Importing Necessary Libraries"
   ]
  },
  {
   "cell_type": "code",
   "execution_count": null,
   "id": "df5a18ce",
   "metadata": {},
   "outputs": [],
   "source": [
    "import numpy as np\n",
    "import pandas as pd\n",
    "import matplotlib.pyplot as plt\n",
    "import seaborn as sns\n",
    "%matplotlib inline\n",
    "sns.set()\n"
   ]
  },
  {
   "cell_type": "code",
   "execution_count": null,
   "id": "2dae20f5",
   "metadata": {},
   "outputs": [],
   "source": [
    "df = pd.read_csv(r\"car_prices.csv\")\n",
    "df.head()"
   ]
  },
  {
   "cell_type": "markdown",
   "id": "8f32de38",
   "metadata": {},
   "source": [
    "## 2. Data Overview"
   ]
  },
  {
   "cell_type": "code",
   "execution_count": null,
   "id": "2d3bbfbf",
   "metadata": {},
   "outputs": [],
   "source": [
    "df.info()"
   ]
  },
  {
   "cell_type": "code",
   "execution_count": null,
   "id": "d44e712c",
   "metadata": {},
   "outputs": [],
   "source": [
    "df.describe().T"
   ]
  },
  {
   "cell_type": "code",
   "execution_count": null,
   "id": "614c29b4",
   "metadata": {},
   "outputs": [],
   "source": [
    "df.count()"
   ]
  },
  {
   "cell_type": "code",
   "execution_count": null,
   "id": "bc2721cd",
   "metadata": {},
   "outputs": [],
   "source": [
    "df.shape"
   ]
  },
  {
   "cell_type": "code",
   "execution_count": null,
   "id": "74faeed6",
   "metadata": {},
   "outputs": [],
   "source": [
    "df.columns = df.columns.str.strip().str.lower()\n",
    "df.columns\n"
   ]
  },
  {
   "cell_type": "markdown",
   "id": "5a029dda",
   "metadata": {},
   "source": [
    "## 3. Data Cleaning"
   ]
  },
  {
   "cell_type": "markdown",
   "id": "d4a0167d",
   "metadata": {},
   "source": [
    "### Handling Missing Values"
   ]
  },
  {
   "cell_type": "code",
   "execution_count": null,
   "id": "cd541203",
   "metadata": {},
   "outputs": [],
   "source": [
    "plt.figure(figsize=(12, 6))\n",
    "\n",
    "sns.heatmap(df.isna())\n",
    "\n",
    "plt.show()"
   ]
  },
  {
   "cell_type": "code",
   "execution_count": null,
   "id": "8cb4a7f5",
   "metadata": {},
   "outputs": [],
   "source": [
    "df.nunique()"
   ]
  },
  {
   "cell_type": "code",
   "execution_count": null,
   "id": "10f2d696",
   "metadata": {},
   "outputs": [],
   "source": [
    "df.isna().sum()"
   ]
  },
  {
   "cell_type": "code",
   "execution_count": null,
   "id": "08eb8966",
   "metadata": {},
   "outputs": [],
   "source": [
    "df.isna().sum()/df.shape[0]*100"
   ]
  },
  {
   "cell_type": "code",
   "execution_count": null,
   "id": "70b010ca",
   "metadata": {},
   "outputs": [],
   "source": [
    "def fill_na_with_mode(df, columns):\n",
    "    \"\"\"\n",
    "    Fill missing values (NaN) in specified columns with the mode (most frequent value).\n",
    "\n",
    "    Parameters:\n",
    "    df (pd.DataFrame): The DataFrame containing the data.\n",
    "    columns (list): A list of column names to fill missing values in.\n",
    "\n",
    "    Returns:\n",
    "    pd.DataFrame: The DataFrame with missing values filled in the specified columns.\n",
    "    \"\"\"\n",
    "\n",
    "\n",
    "    for col in columns:\n",
    "        mode_value = df[col].mode()[0]\n",
    "        df[col].fillna(mode_value, inplace=True)\n",
    "\n",
    "    return df\n",
    "\n",
    "columns_to_fill = ['make', 'model', 'trim', 'body', 'transmission']\n",
    "df = fill_na_with_mode(df, columns_to_fill)"
   ]
  },
  {
   "cell_type": "code",
   "execution_count": null,
   "id": "fc07c2f9",
   "metadata": {},
   "outputs": [],
   "source": [
    "df.isna().mean()*100"
   ]
  },
  {
   "cell_type": "code",
   "execution_count": null,
   "id": "43bda78e",
   "metadata": {},
   "outputs": [],
   "source": [
    "columns_to_drop = ['vin']\n",
    "df.drop(columns=columns_to_drop, inplace=True)"
   ]
  },
  {
   "cell_type": "code",
   "execution_count": null,
   "id": "89dffb8a",
   "metadata": {},
   "outputs": [],
   "source": [
    "df.columns"
   ]
  },
  {
   "cell_type": "code",
   "execution_count": null,
   "id": "b9d4a369",
   "metadata": {},
   "outputs": [],
   "source": [
    "df = df.dropna(subset=['sellingprice', 'saledate', 'mmr', 'make', 'color', 'odometer', 'condition', 'interior'])"
   ]
  },
  {
   "cell_type": "code",
   "execution_count": null,
   "id": "440072e1",
   "metadata": {},
   "outputs": [],
   "source": [
    "df.isna().mean() * 100"
   ]
  },
  {
   "cell_type": "code",
   "execution_count": null,
   "id": "b3cd5465",
   "metadata": {},
   "outputs": [],
   "source": [
    "df.shape"
   ]
  },
  {
   "cell_type": "code",
   "execution_count": null,
   "id": "4327c4d3",
   "metadata": {},
   "outputs": [],
   "source": [
    "df.describe().T"
   ]
  },
  {
   "cell_type": "code",
   "execution_count": null,
   "id": "6570823e",
   "metadata": {},
   "outputs": [],
   "source": [
    "df.head()"
   ]
  },
  {
   "cell_type": "markdown",
   "id": "0491aeb0",
   "metadata": {},
   "source": [
    "### Checking for Duplicate Rows"
   ]
  },
  {
   "cell_type": "code",
   "execution_count": null,
   "id": "5e3ad602",
   "metadata": {},
   "outputs": [],
   "source": [
    "df.duplicated().sum()"
   ]
  },
  {
   "cell_type": "markdown",
   "id": "e635d462",
   "metadata": {},
   "source": [
    "## 4. Feature Engineering"
   ]
  },
  {
   "cell_type": "markdown",
   "id": "97cf589b",
   "metadata": {},
   "source": [
    "### Handling Date Data"
   ]
  },
  {
   "cell_type": "code",
   "execution_count": null,
   "id": "8896b6be",
   "metadata": {},
   "outputs": [],
   "source": [
    "df.head()\n",
    "\n",
    "df['saledate'] = pd.to_datetime(df['saledate'], errors='coerce', utc=True)\n",
    "\n",
    "sales_per_day = df['saledate'].dt.date.value_counts()\n",
    "\n",
    "\n",
    "\n",
    "top_10_sales_days = sales_per_day.head(10)\n",
    "\n",
    "\n",
    "\n",
    "print(\"Top 10 sales days:\")\n",
    "\n",
    "display(top_10_sales_days)"
   ]
  },
  {
   "cell_type": "code",
   "execution_count": null,
   "id": "1b058c6c",
   "metadata": {},
   "outputs": [],
   "source": [
    "# Convert the 'saledate' column to datetime format with UTC timezone\n",
    "df['saledate'] = pd.to_datetime(df['saledate'], utc=True)\n",
    "\n",
    "# Extract the year from the 'saledate' column and store it in a new column 'sale_year'\n",
    "df['sale_year'] = df['saledate'].dt.year\n",
    "\n",
    "# Extract the month from the 'saledate' column and store it in a new column 'sale_month'\n",
    "df['sale_month'] = df['saledate'].dt.month\n",
    "\n",
    "# Extract the day from the 'saledate' column and store it in a new column 'sale_day'\n",
    "df['sale_day'] = df['saledate'].dt.day\n",
    "\n",
    "# Extract the day of the week (0=Monday, 6=Sunday) from the 'saledate' column and store it in a new column 'sale_dayofweek'\n",
    "df['sale_dayofweek'] = df['saledate'].dt.dayofweek\n",
    "\n",
    "# Display the data types of all columns in the DataFrame to verify the changes\n",
    "df.dtypes"
   ]
  },
  {
   "cell_type": "markdown",
   "id": "9e8b025b",
   "metadata": {},
   "source": [
    "## 5. Standardizing the condition Value"
   ]
  },
  {
   "cell_type": "code",
   "execution_count": null,
   "id": "c3713656",
   "metadata": {},
   "outputs": [],
   "source": [
    "unique_conditions = df['condition'].unique()\n",
    "\n",
    "unique_conditions"
   ]
  },
  {
   "cell_type": "code",
   "execution_count": null,
   "id": "0808e8fd",
   "metadata": {},
   "outputs": [],
   "source": [
    "sns.lineplot(data=df, x='condition', y='sellingprice', color='red')\n",
    "plt.title('Selling Price by Condition', fontsize=16)\n",
    "plt.xlabel('Condition', fontsize=12)\n",
    "plt.ylabel('Selling Price ($)', fontsize=12)\n",
    "\n",
    "plt.xticks(fontsize=10)\n",
    "plt.yticks(fontsize=10)\n",
    "\n",
    "plt.grid(False)\n",
    "\n",
    "plt.tight_layout()\n",
    "plt.show()\n"
   ]
  },
  {
   "cell_type": "markdown",
   "id": "1df9b561",
   "metadata": {},
   "source": [
    "#### Selling Price by Condition\n",
    "\n",
    "This visualization represents the **selling price** of cars categorized by their **condition**. The y-axis shows the selling price, while the x-axis represents different conditions ."
   ]
  },
  {
   "cell_type": "code",
   "execution_count": null,
   "id": "df131d4f",
   "metadata": {},
   "outputs": [],
   "source": [
    "def unify_condition(value):\n",
    "    \"\"\"\n",
    "    Unifies the condition value to a standardized scale.\n",
    "\n",
    "    This function takes a numeric value representing a car's condition and converts it\n",
    "    to a standardized scale (1-5). If the value is already within the 1-5 range, it is\n",
    "    returned as is. If the value is between 10 and 50, it is divided by 10 and rounded\n",
    "    to the nearest integer. For values outside these ranges, the function returns None.\n",
    "\n",
    "    \"\"\"\n",
    "    if 1 <= value <= 5:\n",
    "        return value\n",
    "    elif 10 <= value <= 50:\n",
    "        return round(value / 10)\n",
    "    else:\n",
    "        return None"
   ]
  },
  {
   "cell_type": "code",
   "execution_count": null,
   "id": "b9121aa5",
   "metadata": {},
   "outputs": [],
   "source": [
    "df['condition'] = df['condition'].apply(unify_condition)\n",
    "\n",
    "df['condition'].unique()"
   ]
  },
  {
   "cell_type": "code",
   "execution_count": null,
   "id": "5bc92a40",
   "metadata": {},
   "outputs": [],
   "source": [
    "df['condition'].isnull().sum()/(df.shape[0])*100"
   ]
  },
  {
   "cell_type": "code",
   "execution_count": null,
   "id": "ea1de2b3",
   "metadata": {},
   "outputs": [],
   "source": [
    "df['condition'] = df['condition'].astype(int)\n",
    "\n",
    "record_counts = df['condition'].value_counts().reset_index()\n",
    "\n",
    "record_counts"
   ]
  },
  {
   "cell_type": "markdown",
   "id": "7eb8fa74",
   "metadata": {},
   "source": [
    "#### **Renaming** States"
   ]
  },
  {
   "cell_type": "code",
   "execution_count": null,
   "id": "c7895f95",
   "metadata": {},
   "outputs": [],
   "source": [
    "state_names = {\n",
    "\n",
    "    'ca': 'California', 'tx': 'Texas', 'pa': 'Pennsylvania', 'mn': 'Minnesota',\n",
    "\n",
    "    'az': 'Arizona', 'wi': 'Wisconsin', 'tn': 'Tennessee', 'md': 'Maryland',\n",
    "\n",
    "    'fl': 'Florida', 'ne': 'Nebraska', 'nj': 'New Jersey', 'nv': 'Nevada',\n",
    "\n",
    "    'oh': 'Ohio', 'mi': 'Michigan', 'ga': 'Georgia', 'va': 'Virginia',\n",
    "\n",
    "    'sc': 'South Carolina', 'nc': 'North Carolina', 'in': 'Indiana',\n",
    "\n",
    "    'il': 'Illinois', 'co': 'Colorado', 'ut': 'Utah', 'mo': 'Missouri',\n",
    "\n",
    "    'ny': 'New York', 'ma': 'Massachusetts', 'pr': 'Puerto Rico', 'or': 'Oregon',\n",
    "\n",
    "    'la': 'Louisiana', 'wa': 'Washington', 'hi': 'Hawaii', 'qc': 'Quebec',\n",
    "\n",
    "    'ab': 'Alberta', 'on': 'Ontario', 'ok': 'Oklahoma', 'ms': 'Mississippi',\n",
    "\n",
    "    'nm': 'New Mexico', 'al': 'Alabama', 'ns': 'Nova Scotia'\n",
    "\n",
    "}\n",
    "\n",
    "df['state'] = df['state'].map(state_names)\n",
    "\n",
    "df.head()"
   ]
  },
  {
   "cell_type": "markdown",
   "id": "de87bb7c",
   "metadata": {},
   "source": [
    "## 6. Outlier Handling"
   ]
  },
  {
   "cell_type": "markdown",
   "id": "57e3387a",
   "metadata": {},
   "source": [
    "Removing Illogical Values from sellingpric"
   ]
  },
  {
   "cell_type": "code",
   "execution_count": null,
   "id": "4c34fd09",
   "metadata": {},
   "outputs": [],
   "source": [
    "df['Price_diff']=df['sellingprice'] - df['mmr']"
   ]
  },
  {
   "cell_type": "code",
   "execution_count": null,
   "id": "440c5768",
   "metadata": {},
   "outputs": [],
   "source": [
    "def outliers_handling(x, p1=0.25, p2=0.75):\n",
    "    \"\"\"\n",
    "    Handles outliers in a numeric dataset using the Interquartile Range (IQR) method.\n",
    "\n",
    "    This function calculates the first quartile (Q1) and the third quartile (Q3) of the dataset.\n",
    "    It then computes the Interquartile Range (IQR) and uses it to determine the lower and upper\n",
    "    limits for identifying outliers. Any value below the lower limit or above the upper limit\n",
    "    is considered an outlier and is filtered out.\n",
    "\n",
    "    \"\"\"\n",
    "    # Calculate the first quartile (Q1) and third quartile (Q3)\n",
    "    q1 = x.quantile(p1)\n",
    "    q3 = x.quantile(p2)\n",
    "\n",
    "    # Calculate the Interquartile Range (IQR)\n",
    "    iqr = q3 - q1\n",
    "\n",
    "    # Define the lower and upper limits for outliers\n",
    "    min_limit = q1 - 1.5 * iqr\n",
    "    max_limit = q3 + 1.5 * iqr\n",
    "\n",
    "    # Filter out the outliers and return the cleaned data\n",
    "    return x[(x > min_limit) & (x < max_limit)]"
   ]
  },
  {
   "cell_type": "code",
   "execution_count": null,
   "id": "e99928fb",
   "metadata": {},
   "outputs": [],
   "source": [
    "for col in ['odometer','mmr','sellingprice']:\n",
    "\n",
    "    df[col] = outliers_handling(df[col])"
   ]
  },
  {
   "cell_type": "code",
   "execution_count": null,
   "id": "868fe8f7",
   "metadata": {},
   "outputs": [],
   "source": [
    "df['Price_diff'] = outliers_handling(df['Price_diff'])"
   ]
  },
  {
   "cell_type": "code",
   "execution_count": null,
   "id": "6076a10a",
   "metadata": {},
   "outputs": [],
   "source": [
    "df.isna().sum()/(df.shape[0])*100"
   ]
  },
  {
   "cell_type": "code",
   "execution_count": null,
   "id": "3aaa02ec",
   "metadata": {},
   "outputs": [],
   "source": [
    "df.isna().sum()"
   ]
  },
  {
   "cell_type": "markdown",
   "id": "2e37ce15",
   "metadata": {},
   "source": [
    "Removing the illogical differences between MMR and selling price in some rows"
   ]
  },
  {
   "cell_type": "code",
   "execution_count": null,
   "id": "4d640ddf",
   "metadata": {},
   "outputs": [],
   "source": [
    "df['sell_price']=df['Price_diff']+ df['mmr']"
   ]
  },
  {
   "cell_type": "markdown",
   "id": "5db60b6c",
   "metadata": {},
   "source": [
    "Handling Missing and Inconsistent Values in Categorical Columns"
   ]
  },
  {
   "cell_type": "code",
   "execution_count": null,
   "id": "07194ca6",
   "metadata": {},
   "outputs": [],
   "source": [
    "Categorical_col = df.select_dtypes(include= 'object').columns"
   ]
  },
  {
   "cell_type": "code",
   "execution_count": null,
   "id": "3ff00517",
   "metadata": {},
   "outputs": [],
   "source": [
    "df[Categorical_col] = df[Categorical_col].apply(lambda col: col.str.upper())"
   ]
  },
  {
   "cell_type": "code",
   "execution_count": null,
   "id": "7ec0f318",
   "metadata": {},
   "outputs": [],
   "source": [
    "df['seller'].unique()"
   ]
  },
  {
   "cell_type": "code",
   "execution_count": null,
   "id": "efce7765",
   "metadata": {},
   "outputs": [],
   "source": [
    "df['seller'] = df['seller'].str.lower().str.strip()\n",
    "\n",
    "df['seller'] = df['seller'].str.replace('-', ' ', regex=False)"
   ]
  },
  {
   "cell_type": "code",
   "execution_count": null,
   "id": "149189a8",
   "metadata": {},
   "outputs": [],
   "source": [
    "df['seller'].value_counts()"
   ]
  },
  {
   "cell_type": "code",
   "execution_count": null,
   "id": "caea1f38",
   "metadata": {},
   "outputs": [],
   "source": [
    "df['seller'].unique()"
   ]
  },
  {
   "cell_type": "code",
   "execution_count": null,
   "id": "d5b58f9a",
   "metadata": {},
   "outputs": [],
   "source": [
    "columns_with_weird_values = ['color', 'interior']\n",
    "\n",
    "for column in columns_with_weird_values:\n",
    "    \"\"\"\n",
    "    Analyzes columns with weird values (e.g., '—') and calculates their percentage in the dataset.\n",
    "\n",
    "    This function iterates over specified columns and counts the number of rows containing\n",
    "    the weird value '—'. It then calculates the percentage of these rows relative to the\n",
    "    total number of rows in the dataset.\n",
    "\n",
    "    \"\"\"\n",
    "    # Count the number of rows with the weird value '—'\n",
    "    weird_rows_count = df[df[column] == '—'].shape[0]\n",
    "\n",
    "    # Get the total number of rows in the DataFrame\n",
    "    total_rows = df.shape[0]\n",
    "\n",
    "    # Calculate the percentage of rows with the weird value\n",
    "    percentage_weird_rows = (weird_rows_count / total_rows) * 100\n",
    "\n",
    "\n",
    "    print(f'Column: {column}')\n",
    "    print(f'Weird rows count: {weird_rows_count}')\n",
    "    print(f'Percentage of weird rows: {percentage_weird_rows:.2f}%\\n')"
   ]
  },
  {
   "cell_type": "code",
   "execution_count": null,
   "id": "5f22f621",
   "metadata": {},
   "outputs": [],
   "source": [
    "for col in ['color', 'interior']:\n",
    "    \"\"\"\n",
    "    Replaces weird values (e.g., '—') in specified columns with the most common value (mode).\n",
    "\n",
    "    This function iterates over the specified columns, identifies the most common value (mode),\n",
    "    and replaces all occurrences of the weird value '—' with this mode. It then calculates and\n",
    "    prints the percentage of rows that still contain the weird value after replacement.\n",
    "\n",
    "    \"\"\"\n",
    "    # Find the most common value (mode) in the column\n",
    "    most_common_value = df[col].mode()[0]\n",
    "\n",
    "    # Replace the weird value '—' with the most common value\n",
    "    df[col] = df[col].replace('—', most_common_value)\n",
    "\n",
    "    # Count the number of rows that still contain the weird value '—'\n",
    "    weird_rows_count = df[df[col] == '—'].shape[0]\n",
    "\n",
    "    # Calculate the percentage of rows that still contain the weird value\n",
    "    percentage_weird_rows = (weird_rows_count / df.shape[0]) * 100\n",
    "\n",
    "    # Print the percentage of rows with the weird value after replacement\n",
    "    print(f\"Percentage of rows with weird '{col}' values after replacement: {percentage_weird_rows:.2f}%\")"
   ]
  },
  {
   "cell_type": "code",
   "execution_count": null,
   "id": "668b3c20",
   "metadata": {},
   "outputs": [],
   "source": [
    "df.isnull().mean() * 100"
   ]
  },
  {
   "cell_type": "code",
   "execution_count": null,
   "id": "8bf14bce",
   "metadata": {},
   "outputs": [],
   "source": [
    "df = df.dropna(subset=['sell_price'])\n",
    "\n",
    "df = df.dropna(subset=['odometer'])\n",
    "\n",
    "df = df.drop(columns=['Price_diff'])\n",
    "\n",
    "df = df.drop(columns=['sellingprice'])"
   ]
  },
  {
   "cell_type": "code",
   "execution_count": null,
   "id": "e701d5f9",
   "metadata": {},
   "outputs": [],
   "source": [
    "df.shape"
   ]
  },
  {
   "cell_type": "code",
   "execution_count": null,
   "id": "685719ad",
   "metadata": {},
   "outputs": [],
   "source": [
    "df.dtypes"
   ]
  },
  {
   "cell_type": "code",
   "execution_count": null,
   "id": "68d7f288",
   "metadata": {},
   "outputs": [],
   "source": [
    "df.columns"
   ]
  },
  {
   "cell_type": "code",
   "execution_count": null,
   "id": "df14020a",
   "metadata": {},
   "outputs": [],
   "source": [
    "df.head()"
   ]
  },
  {
   "cell_type": "code",
   "execution_count": null,
   "id": "9227fce7",
   "metadata": {},
   "outputs": [],
   "source": [
    "df.describe().T"
   ]
  },
  {
   "cell_type": "code",
   "execution_count": null,
   "id": "5ce0b16f",
   "metadata": {},
   "outputs": [],
   "source": [
    "# Get the list of columns in the DataFrame\n",
    "cols = df.columns.tolist()\n",
    "\n",
    "# Remove 'sell_price' from the list\n",
    "cols.remove('sell_price')\n",
    "\n",
    "# Insert 'sell_price' after the 'mmr' column\n",
    "cols.insert(cols.index('mmr') + 1, 'sell_price')\n",
    "\n",
    "# Reorder the DataFrame columns based on the updated list\n",
    "df = df[cols]"
   ]
  },
  {
   "cell_type": "code",
   "execution_count": null,
   "id": "ddf71650",
   "metadata": {},
   "outputs": [],
   "source": [
    "df.dtypes"
   ]
  },
  {
   "cell_type": "code",
   "execution_count": null,
   "id": "67dc0a1a",
   "metadata": {},
   "outputs": [],
   "source": [
    "df.isnull().mean() * 100"
   ]
  },
  {
   "cell_type": "markdown",
   "id": "a7ad1bdf",
   "metadata": {},
   "source": [
    "#### to CSV for ML"
   ]
  },
  {
   "cell_type": "code",
   "execution_count": null,
   "id": "7a865a45",
   "metadata": {},
   "outputs": [],
   "source": [
    "df.to_csv(r\"cleaned_car_prices.csv\", index=False)"
   ]
  },
  {
   "cell_type": "code",
   "execution_count": null,
   "id": "af776f74",
   "metadata": {},
   "outputs": [],
   "source": []
  },
  {
   "cell_type": "code",
   "execution_count": null,
   "id": "20a78c03",
   "metadata": {},
   "outputs": [],
   "source": []
  }
 ],
 "metadata": {
  "kernelspec": {
   "display_name": "Python 3",
   "language": "python",
   "name": "python3"
  },
  "language_info": {
   "codemirror_mode": {
    "name": "ipython",
    "version": 3
   },
   "file_extension": ".py",
   "mimetype": "text/x-python",
   "name": "python",
   "nbconvert_exporter": "python",
   "pygments_lexer": "ipython3",
   "version": "3.12.2"
  }
 },
 "nbformat": 4,
 "nbformat_minor": 5
}
