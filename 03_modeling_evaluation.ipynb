{
 "cells": [
  {
   "cell_type": "markdown",
   "id": "18f5af30",
   "metadata": {},
   "source": [
    "##  Importing Necessary Libraries"
   ]
  },
  {
   "cell_type": "code",
   "execution_count": null,
   "id": "9bc97bcb",
   "metadata": {},
   "outputs": [],
   "source": [
    "import numpy as np\n",
    "import pandas as pd\n",
    "import matplotlib.pyplot as plt\n",
    "import seaborn as sns\n",
    "import plotly.graph_objects as go\n",
    "import plotly.graph_objects as g\n",
    "import plotly.subplots as sp\n",
    "from plotly.subplots import make_subplots\n",
    "import plotly.io as pio\n",
    "import plotly.express as px\n",
    "import matplotlib.cm as cm\n",
    "from scipy.stats import gaussian_kde\n",
    "from sklearn.model_selection import train_test_split\n",
    "from sklearn.preprocessing import StandardScaler, LabelEncoder\n",
    "from sklearn.linear_model import LinearRegression\n",
    "from sklearn.metrics import mean_absolute_error, r2_score\n",
    "%matplotlib inline\n",
    "sns.set()"
   ]
  },
  {
   "cell_type": "markdown",
   "id": "610a0d71",
   "metadata": {},
   "source": [
    "# Bulding a Linear Regression Model"
   ]
  },
  {
   "cell_type": "code",
   "execution_count": null,
   "id": "60fb84ad",
   "metadata": {},
   "outputs": [],
   "source": [
    "\n",
    "\n",
    "file_path = r\"cleaned_car_prices.csv\"\n",
    "df = pd.read_csv(file_path)\n",
    "\n",
    "df = df.drop(columns=['saledate', 'seller'])\n",
    "\n",
    "for col in df.select_dtypes(include=['object']).columns:\n",
    "    le = LabelEncoder()\n",
    "    df[col] = le.fit_transform(df[col])\n",
    "\n",
    "X = df.drop(columns=['sell_price'])\n",
    "y = df['sell_price']\n",
    "\n",
    "X_train, X_test, y_train, y_test = train_test_split(X, y, test_size=0.2, random_state=42)\n",
    "\n",
    "scaler = StandardScaler()\n",
    "X_train = scaler.fit_transform(X_train)\n",
    "X_test = scaler.transform(X_test)\n",
    "\n",
    "model = LinearRegression()\n",
    "model.fit(X_train, y_train)\n",
    "\n",
    "y_pred = model.predict(X_test)\n",
    "\n",
    "mae = mean_absolute_error(y_test, y_pred)\n",
    "r2 = r2_score(y_test, y_pred)\n",
    "\n",
    "print(\"Mean Absolute Error (MAE):\", mae)\n",
    "print(\"R² Score:\", r2)"
   ]
  },
  {
   "cell_type": "markdown",
   "id": "89b9aceb",
   "metadata": {},
   "source": [
    "- Mean Absolute Error (MAE):** `764.23`  \n",
    "  This means that, on average, the model's predictions are off by approximately **$764.23** from the actual car prices. A lower MAE indicates better accuracy.\n",
    "\n",
    "- R² Score:** `0.9831`  \n",
    "  This indicates that the model explains **98.31%** of the variance in the car prices. An R² score close to 1 suggests that the model fits the data very well."
   ]
  },
  {
   "cell_type": "code",
   "execution_count": null,
   "id": "05f692fd",
   "metadata": {},
   "outputs": [],
   "source": [
    "plt.figure(figsize=(12, 6))\n",
    "\n",
    "plt.subplot(2, 2, 1)\n",
    "sns.histplot(y, bins=30, kde=True, color=\"blue\")\n",
    "plt.title(\"Distribution of Sell Prices\")\n",
    "plt.xlabel(\"Sell Price\")\n",
    "plt.ylabel(\"Frequency\")\n",
    "\n",
    "plt.subplot(2, 2, 2)\n",
    "plt.scatter(y_test, y_pred, alpha=0.5, color=\"red\")\n",
    "plt.plot([y_test.min(), y_test.max()], [y_test.min(), y_test.max()], \"--\", color=\"black\")\n",
    "plt.title(\"Actual vs. Predicted Sell Prices\")\n",
    "plt.xlabel(\"Actual Sell Price\")\n",
    "plt.ylabel(\"Predicted Sell Price\")\n",
    "\n",
    "plt.subplot(2, 2, 3)\n",
    "sns.regplot(x=y_test, y=y_pred, scatter_kws={\"alpha\": 0.5}, line_kws={\"color\": \"black\"})\n",
    "plt.title(\"Scatter Plot: Actual vs. Predicted Prices\")\n",
    "plt.xlabel(\"Actual Sell Price\")\n",
    "plt.ylabel(\"Predicted Sell Price\")\n",
    "\n",
    "plt.subplot(2, 2, 4)\n",
    "residuals = y_test - y_pred\n",
    "sns.histplot(residuals, bins=30, kde=True, color=\"green\")\n",
    "plt.title(\"Residuals Distribution\")\n",
    "plt.xlabel(\"Prediction Errors (Residuals)\")\n",
    "plt.ylabel(\"Frequency\")\n",
    "\n",
    "plt.tight_layout()\n",
    "plt.show()"
   ]
  },
  {
   "cell_type": "markdown",
   "id": "bf709b0a",
   "metadata": {},
   "source": [
    "### Distribution of Sell Prices\n",
    "\n",
    "The image provides a visual analysis of the distribution of actual and predicted sell prices, along with the residuals (prediction errors). Here's a breakdown:\n",
    "\n",
    "1. **Actual Sell Prices:**\n",
    "   - The distribution shows the frequency of actual car prices, with most prices concentrated between **$0 and $35,000**.\n",
    "\n",
    "2. **Predicted Sell Prices:**\n",
    "   - The predicted prices closely follow the actual prices, indicating that the model performs well in predicting car prices.\n",
    "\n",
    "3. **Residuals Distribution:**\n",
    "   - The residuals (differences between actual and predicted prices) are centered around **0**, with most errors falling within the range of **-$4,000 to $4,000**. This suggests that the model's predictions are generally accurate.\n",
    "\n",
    "4. **Scatter Plot: Actual vs. Predicted Prices:**\n",
    "   - The scatter plot shows a strong linear relationship between actual and predicted prices, further confirming the model's accuracy.\n",
    "\n",
    "### Key Insights:\n",
    "- The model effectively predicts car prices, with most predictions being close to the actual values.\n",
    "- The residuals are symmetrically distributed around zero, indicating no significant bias in the predictions."
   ]
  }
 ],
 "metadata": {
  "kernelspec": {
   "display_name": "Python 3",
   "language": "python",
   "name": "python3"
  },
  "language_info": {
   "codemirror_mode": {
    "name": "ipython",
    "version": 3
   },
   "file_extension": ".py",
   "mimetype": "text/x-python",
   "name": "python",
   "nbconvert_exporter": "python",
   "pygments_lexer": "ipython3",
   "version": "3.12.2"
  }
 },
 "nbformat": 4,
 "nbformat_minor": 5
}
